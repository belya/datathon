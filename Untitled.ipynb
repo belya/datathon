{
 "cells": [
  {
   "cell_type": "markdown",
   "metadata": {},
   "source": [
    "### Препроцессинг признаков и визуализация"
   ]
  },
  {
   "cell_type": "code",
   "execution_count": 52,
   "metadata": {
    "scrolled": true
   },
   "outputs": [
    {
     "data": {
      "text/html": [
       "<div>\n",
       "<table border=\"1\" class=\"dataframe\">\n",
       "  <thead>\n",
       "    <tr style=\"text-align: right;\">\n",
       "      <th></th>\n",
       "      <th>ActiveDays</th>\n",
       "      <th>AGE_h4</th>\n",
       "      <th>Billed_Lifetime</th>\n",
       "      <th>C_Trust</th>\n",
       "      <th>churn</th>\n",
       "      <th>D_ActiveDays</th>\n",
       "      <th>D_ARPU</th>\n",
       "      <th>D_InVoice_Velcom_Dur</th>\n",
       "      <th>D_OutVoice_FNF_Dur</th>\n",
       "      <th>D_OutVoice_Velcom_Dur</th>\n",
       "      <th>...</th>\n",
       "      <th>S_BARBL</th>\n",
       "      <th>shock_data_b</th>\n",
       "      <th>shock_int_b</th>\n",
       "      <th>shock_ISR_b</th>\n",
       "      <th>shock_roam_b</th>\n",
       "      <th>shock_vas_b</th>\n",
       "      <th>Total_Fee</th>\n",
       "      <th>X2G_VOICE_Usage_Sum_Sum</th>\n",
       "      <th>X3G_Data_Usage_Sum_Sum</th>\n",
       "      <th>X3G_VOICE_Usage_Sum_Sum</th>\n",
       "    </tr>\n",
       "  </thead>\n",
       "  <tbody>\n",
       "    <tr>\n",
       "      <th>0</th>\n",
       "      <td>22.333333</td>\n",
       "      <td>48</td>\n",
       "      <td>81.733333</td>\n",
       "      <td>0</td>\n",
       "      <td>1</td>\n",
       "      <td>0.358209</td>\n",
       "      <td>0.490435</td>\n",
       "      <td>0.511229</td>\n",
       "      <td>0.0</td>\n",
       "      <td>0.401664</td>\n",
       "      <td>...</td>\n",
       "      <td>0</td>\n",
       "      <td>0</td>\n",
       "      <td>0</td>\n",
       "      <td>0</td>\n",
       "      <td>0</td>\n",
       "      <td>0</td>\n",
       "      <td>12.90944</td>\n",
       "      <td>91.22</td>\n",
       "      <td>14820.724066</td>\n",
       "      <td>986.60</td>\n",
       "    </tr>\n",
       "    <tr>\n",
       "      <th>1</th>\n",
       "      <td>8.666667</td>\n",
       "      <td>84</td>\n",
       "      <td>NaN</td>\n",
       "      <td>7</td>\n",
       "      <td>1</td>\n",
       "      <td>0.115385</td>\n",
       "      <td>0.800254</td>\n",
       "      <td>0.000000</td>\n",
       "      <td>0.0</td>\n",
       "      <td>0.000000</td>\n",
       "      <td>...</td>\n",
       "      <td>1</td>\n",
       "      <td>0</td>\n",
       "      <td>0</td>\n",
       "      <td>0</td>\n",
       "      <td>0</td>\n",
       "      <td>0</td>\n",
       "      <td>8.06400</td>\n",
       "      <td>317.62</td>\n",
       "      <td>0.000000</td>\n",
       "      <td>0.00</td>\n",
       "    </tr>\n",
       "    <tr>\n",
       "      <th>2</th>\n",
       "      <td>17.333333</td>\n",
       "      <td>44</td>\n",
       "      <td>81.700000</td>\n",
       "      <td>7</td>\n",
       "      <td>1</td>\n",
       "      <td>0.403846</td>\n",
       "      <td>0.785503</td>\n",
       "      <td>0.229036</td>\n",
       "      <td>0.0</td>\n",
       "      <td>0.000000</td>\n",
       "      <td>...</td>\n",
       "      <td>1</td>\n",
       "      <td>0</td>\n",
       "      <td>0</td>\n",
       "      <td>0</td>\n",
       "      <td>0</td>\n",
       "      <td>0</td>\n",
       "      <td>4.75976</td>\n",
       "      <td>46.44</td>\n",
       "      <td>0.000000</td>\n",
       "      <td>0.00</td>\n",
       "    </tr>\n",
       "    <tr>\n",
       "      <th>3</th>\n",
       "      <td>29.666667</td>\n",
       "      <td>35</td>\n",
       "      <td>170.266667</td>\n",
       "      <td>9</td>\n",
       "      <td>1</td>\n",
       "      <td>1.044944</td>\n",
       "      <td>0.344440</td>\n",
       "      <td>0.485012</td>\n",
       "      <td>0.0</td>\n",
       "      <td>0.166236</td>\n",
       "      <td>...</td>\n",
       "      <td>0</td>\n",
       "      <td>0</td>\n",
       "      <td>0</td>\n",
       "      <td>0</td>\n",
       "      <td>0</td>\n",
       "      <td>0</td>\n",
       "      <td>9.85392</td>\n",
       "      <td>83.92</td>\n",
       "      <td>5929.615768</td>\n",
       "      <td>1662.22</td>\n",
       "    </tr>\n",
       "    <tr>\n",
       "      <th>4</th>\n",
       "      <td>0.000000</td>\n",
       "      <td>62</td>\n",
       "      <td>NaN</td>\n",
       "      <td>9</td>\n",
       "      <td>1</td>\n",
       "      <td>0.000000</td>\n",
       "      <td>0.000000</td>\n",
       "      <td>0.000000</td>\n",
       "      <td>0.0</td>\n",
       "      <td>0.000000</td>\n",
       "      <td>...</td>\n",
       "      <td>2</td>\n",
       "      <td>0</td>\n",
       "      <td>0</td>\n",
       "      <td>0</td>\n",
       "      <td>0</td>\n",
       "      <td>0</td>\n",
       "      <td>2.09484</td>\n",
       "      <td>0.00</td>\n",
       "      <td>0.000000</td>\n",
       "      <td>0.00</td>\n",
       "    </tr>\n",
       "  </tbody>\n",
       "</table>\n",
       "<p>5 rows × 58 columns</p>\n",
       "</div>"
      ],
      "text/plain": [
       "   ActiveDays  AGE_h4  Billed_Lifetime  C_Trust  churn  D_ActiveDays  \\\n",
       "0   22.333333      48        81.733333        0      1      0.358209   \n",
       "1    8.666667      84              NaN        7      1      0.115385   \n",
       "2   17.333333      44        81.700000        7      1      0.403846   \n",
       "3   29.666667      35       170.266667        9      1      1.044944   \n",
       "4    0.000000      62              NaN        9      1      0.000000   \n",
       "\n",
       "     D_ARPU  D_InVoice_Velcom_Dur  D_OutVoice_FNF_Dur  D_OutVoice_Velcom_Dur  \\\n",
       "0  0.490435              0.511229                 0.0               0.401664   \n",
       "1  0.800254              0.000000                 0.0               0.000000   \n",
       "2  0.785503              0.229036                 0.0               0.000000   \n",
       "3  0.344440              0.485012                 0.0               0.166236   \n",
       "4  0.000000              0.000000                 0.0               0.000000   \n",
       "\n",
       "            ...             S_BARBL  shock_data_b  shock_int_b  shock_ISR_b  \\\n",
       "0           ...                   0             0            0            0   \n",
       "1           ...                   1             0            0            0   \n",
       "2           ...                   1             0            0            0   \n",
       "3           ...                   0             0            0            0   \n",
       "4           ...                   2             0            0            0   \n",
       "\n",
       "   shock_roam_b  shock_vas_b  Total_Fee  X2G_VOICE_Usage_Sum_Sum  \\\n",
       "0             0            0   12.90944                    91.22   \n",
       "1             0            0    8.06400                   317.62   \n",
       "2             0            0    4.75976                    46.44   \n",
       "3             0            0    9.85392                    83.92   \n",
       "4             0            0    2.09484                     0.00   \n",
       "\n",
       "   X3G_Data_Usage_Sum_Sum  X3G_VOICE_Usage_Sum_Sum  \n",
       "0            14820.724066                   986.60  \n",
       "1                0.000000                     0.00  \n",
       "2                0.000000                     0.00  \n",
       "3             5929.615768                  1662.22  \n",
       "4                0.000000                     0.00  \n",
       "\n",
       "[5 rows x 58 columns]"
      ]
     },
     "execution_count": 52,
     "metadata": {},
     "output_type": "execute_result"
    }
   ],
   "source": [
    "import pandas as pd\n",
    "dataset = pd.read_csv(\"./velcom/training_set.csv\")\n",
    "dataset.head()"
   ]
  },
  {
   "cell_type": "code",
   "execution_count": 53,
   "metadata": {
    "collapsed": true
   },
   "outputs": [],
   "source": [
    "for column in dataset.columns:\n",
    "    dataset[column].fillna(dataset[column].mean(), inplace=True)"
   ]
  },
  {
   "cell_type": "code",
   "execution_count": 54,
   "metadata": {},
   "outputs": [],
   "source": [
    "from sklearn.model_selection import train_test_split\n",
    "\n",
    "X = dataset.drop(['churn'], axis=1)\n",
    "y = dataset['churn']\n",
    "train_X, test_X, train_y, test_y = train_test_split(X, y, test_size=0.3)"
   ]
  },
  {
   "cell_type": "code",
   "execution_count": 48,
   "metadata": {
    "collapsed": true
   },
   "outputs": [],
   "source": [
    "from sklearn.preprocessing import StandardScaler\n",
    "\n",
    "scaler = StandardScaler().fit(train_X)\n",
    "train_X = scaler.transform(train_X)\n",
    "test_X = scaler.transform(test_X)"
   ]
  },
  {
   "cell_type": "code",
   "execution_count": 51,
   "metadata": {},
   "outputs": [
    {
     "data": {
      "text/plain": [
       "array([[ 0.74977953,  0.10683471,  1.88743189, ..., -0.43379546,\n",
       "         0.47418877,  1.19669489],\n",
       "       [ 0.63254766, -0.53319235,  1.88492146, ...,  0.1248121 ,\n",
       "         0.05589681,  1.21387581],\n",
       "       [ 0.24177477,  0.29884282, -0.08577094, ..., -0.010705  ,\n",
       "        -0.18584764, -0.56252277],\n",
       "       ..., \n",
       "       [ 0.16362015,  1.3228861 ,  0.56380442, ..., -0.13103957,\n",
       "        -0.18584764, -0.56252277],\n",
       "       [ 0.43716115,  0.68285905,  0.55501788, ...,  0.03184073,\n",
       "        -0.18584764, -0.56252277],\n",
       "       [ 0.35900665, -0.02117071,  0.437655  , ..., -0.47847713,\n",
       "        -0.18584764, -0.56252277]])"
      ]
     },
     "execution_count": 51,
     "metadata": {},
     "output_type": "execute_result"
    }
   ],
   "source": [
    "# %matplotlib inline\n",
    "# import matplotlib.pyplot as plt\n",
    "\n",
    "# plt.hist()"
   ]
  },
  {
   "cell_type": "code",
   "execution_count": 49,
   "metadata": {},
   "outputs": [],
   "source": [
    "from sklearn.linear_model import LogisticRegression\n",
    "from sklearn.metrics import f1_score, precision_score, recall_score\n",
    "\n",
    "model = LogisticRegression().fit(train_X, train_y)"
   ]
  },
  {
   "cell_type": "code",
   "execution_count": 50,
   "metadata": {},
   "outputs": [
    {
     "data": {
      "text/plain": [
       "0.24036123654046543"
      ]
     },
     "execution_count": 50,
     "metadata": {},
     "output_type": "execute_result"
    }
   ],
   "source": [
    "precision_score(model.predict(train_X), train_y)"
   ]
  },
  {
   "cell_type": "code",
   "execution_count": 46,
   "metadata": {},
   "outputs": [
    {
     "data": {
      "text/plain": [
       "0.22005234548016911"
      ]
     },
     "execution_count": 46,
     "metadata": {},
     "output_type": "execute_result"
    }
   ],
   "source": [
    "precision_score(model.predict(test_X), test_y)"
   ]
  },
  {
   "cell_type": "code",
   "execution_count": null,
   "metadata": {},
   "outputs": [
    {
     "name": "stdout",
     "output_type": "stream",
     "text": [
      "      Iter       Train Loss   Remaining Time \n",
      "         1           0.7826            1.41m\n",
      "         2           0.7588            1.44m\n",
      "         3           0.7407            1.42m\n",
      "         4           0.7265            1.39m\n",
      "         5           0.7141            1.41m\n",
      "         6           0.7040            1.39m\n",
      "         7           0.6959            1.36m\n",
      "         8           0.6884            1.34m\n",
      "         9           0.6818            1.32m\n",
      "        10           0.6764            1.33m\n"
     ]
    }
   ],
   "source": [
    "from sklearn.ensemble import GradientBoostingClassifier\n",
    "\n",
    "model = GradientBoostingClassifier(verbose=True).fit(train_X, train_y)"
   ]
  },
  {
   "cell_type": "code",
   "execution_count": null,
   "metadata": {
    "collapsed": true
   },
   "outputs": [],
   "source": [
    "precision_score(model.predict(train_X), train_y)"
   ]
  },
  {
   "cell_type": "code",
   "execution_count": null,
   "metadata": {
    "collapsed": true
   },
   "outputs": [],
   "source": [
    "precision_score(model.predict(test_X), test_y)"
   ]
  }
 ],
 "metadata": {
  "kernelspec": {
   "display_name": "Python 2",
   "language": "python",
   "name": "python2"
  },
  "language_info": {
   "codemirror_mode": {
    "name": "ipython",
    "version": 2
   },
   "file_extension": ".py",
   "mimetype": "text/x-python",
   "name": "python",
   "nbconvert_exporter": "python",
   "pygments_lexer": "ipython2",
   "version": "2.7.12"
  }
 },
 "nbformat": 4,
 "nbformat_minor": 2
}
